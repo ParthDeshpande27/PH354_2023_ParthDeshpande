{
 "cells": [
  {
   "cell_type": "markdown",
   "metadata": {},
   "source": [
    "# Exercise 6: Importance Sampling\n",
    "## Part A:\n",
    "### General derivation:\n",
    "#### Formula for integration:\n",
    "For any general function $g(x)$, we can define a weighted\n",
    "average over the interval from $a$ to $b$ thus:\n",
    "$$\\langle g \\rangle_{w} = \\frac { \\int_a^b w(x)g(x) \\, dx}{\\int_a^b w(x) \\, dx}$$\n",
    "where $w(x)$ is the weight function.\n",
    "Now consider again the general one-dimensional integral:\n",
    "$$I = \\int_a^b f(x) \\, dx$$\n",
    "Setting $g(x) = \\frac{f(x)}{w(x)}$,\n",
    "$$\\left\\langle \\frac{f(x)}{w(x)} \\right\\rangle_{w} = \\frac { \\int_a^b w(x)\\frac{f(x)}{w(x)} \\, dx}{\\int_a^b w(x) \\, dx} = \\frac { \\int_a^b f(x) \\, dx}{\\int_a^b w(x) \\, dx} = \\frac { I}{\\int_a^b w(x) \\, dx}$$\n",
    "$$I = \\left\\langle \\frac{f(x)}{w(x)} \\right\\rangle_{w} \\int_a^b w(x) \\, dx$$\n",
    "For purposes of normalization, let us define the probability density function $p(x)$ as:\n",
    "$$p(x) = \\frac{w(x)} {\\int_a^b w(x) \\, dx}$$\n",
    "Let us sample N random points $x_{i}$ with this probability density (i.e., $p(x)$). That is,\n",
    "the probability of generating a value in the interval between $x$ and $x+dx$ will\n",
    "be $p(x)\\,dx$. Then the average number of samples that fall in this interval is\n",
    "$Np(x)\\,dx$, and so for any function $g(x)$ and a large $N$,\n",
    "$$ \\sum_{i=1}^N g(x_i) \\approx \\int_a^b Np(x)g(x) \\, dx$$\n",
    "Therefore,\n",
    "$$\\langle g \\rangle_{w} = \\int_a^b p(x)g(x) \\, dx \\approx \\frac{1}{N} \\sum_{i=1}^N g(x_i)$$\n",
    "$$I \\approx \\frac{1}{N} \\sum_{i=1}^N \\frac{f(x_{i})}{w(x_{i})} \\int_a^b w(x) \\, dx$$\n",
    "\n",
    "#### Transformation method to generate random numbers from an arbitrary distribution:\n",
    "1. Suppose we have a source of random floating-point numbers $z$ drawn\n",
    "from a distribution with probability density $q(z)$ (i.e., the probability\n",
    "of generating a number in the interval $z$ to $z+dz$ is $q(z)\\,dz$).\n",
    "2. Suppose you have a function $x = x(z)$. When $z$ is a random number, $x(z)$ is\n",
    "also a random number with probability distribution $p(x)$.\n",
    "3. Our goal is to choose the function $x(z)$ so that $x$ has the\n",
    "distribution we want.\n",
    "The probability of generating a value of $x$ between $x$ and $x+dx$ is by definition equal to the probability of generating a value of $z$ in the corresponding\n",
    "$z$ interval (i.e., $z$ and $z+dz$). That is,\n",
    "    1. $p(x)\\,dx = q(z)\\,dz$\n",
    "    2. We will have $z$ be a uniform random number between 0 and 1 (i.e., $q(z) = 1$ between 0 and 1 and 0 otherwise).\n",
    "$$\\int_{-\\infty}^{x(z)} p(x^{'})\\,dx^{'} = \\int_{0}^{z} q(z)\\,dz^{'} = \\int_{0}^{z}dz^{'}  = z $$\n",
    "\n",
    "### For our specific case:\n",
    "#### Probability density function:\n",
    "$$p(x) = \\frac{x^{-1/2}} {\\int_0^1 x^{-1/2} \\, dx} = \\frac{1}{2 \\sqrt{x}}$$\n",
    "$$\\int_{0}^{x(z)} \\frac{1}{2 \\sqrt{x^{'}}}\\,dx^{'} = \\frac{1}{2} \\left( 2 \\sqrt{x} \\right) = z $$\n",
    "$$ x(z) = z^{2} $$\n",
    "\n",
    "\n"
   ]
  }
 ],
 "metadata": {
  "kernelspec": {
   "display_name": "Python 3 (ipykernel)",
   "language": "python",
   "name": "python3"
  },
  "language_info": {
   "codemirror_mode": {
    "name": "ipython",
    "version": 3
   },
   "file_extension": ".py",
   "mimetype": "text/x-python",
   "name": "python",
   "nbconvert_exporter": "python",
   "pygments_lexer": "ipython3",
   "version": "3.10.8"
  }
 },
 "nbformat": 4,
 "nbformat_minor": 1
}
