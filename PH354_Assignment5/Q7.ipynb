{
 "cells": [
  {
   "cell_type": "markdown",
   "metadata": {},
   "source": [
    "# Exercise 7: The Ising model\n",
    "The Ising model is a model of ferromagnetism. It is a lattice of spins, each of which can be either up or down. The spins interact with their nearest neighbors, and the energy of the system is given by.\n",
    "#### Part D\n",
    "Upon simulating 100 times at $T=1$, the magnetization developed was positive 53 times and negative 47 times. This is consistent with our expectation that the magnetization does not prefer a direction.\n",
    "\n",
    "#### Part E\n",
    "As the temperature increases (i.e., $T=2,3$), the magnetization developed hovers around 0, i.e., the Curie temperature of the system is between 1 and 2.\n",
    "This does not mean, however, that the energy is also zero. The spatial distribution of the spins can be such that the magnetization is 0 but the energy is negative (i.e., domain structure).\n",
    "\n",
    "\n"
   ]
  }
 ],
 "metadata": {
  "kernelspec": {
   "display_name": "Python 3 (ipykernel)",
   "language": "python",
   "name": "python3"
  },
  "language_info": {
   "codemirror_mode": {
    "name": "ipython",
    "version": 3
   },
   "file_extension": ".py",
   "mimetype": "text/x-python",
   "name": "python",
   "nbconvert_exporter": "python",
   "pygments_lexer": "ipython3",
   "version": "3.10.8"
  }
 },
 "nbformat": 4,
 "nbformat_minor": 1
}
