{
 "cells": [
  {
   "cell_type": "markdown",
   "metadata": {},
   "source": [
    "# Exercise 10: A random point on the surface of the Earth\n",
    "\n",
    "## Part A\n",
    "\n",
    "#### What are the ranges of the variables θ and ϕ?\n",
    "\n",
    "θ is the angle between the z-axis and the point on the surface of the Earth. θ ranges from 0 to π.\n",
    "$\\phi$ is the angle between the x-axis and the projection of the point on the surface of the Earth onto the x-y plane. $\\phi$ ranges from 0 to 2π.\n",
    "\n",
    "#### Verify that the two distributions p(θ) and p(ϕ) are correctly normalized—they integrate to 1 over the appropriate ranges.\n",
    "\n",
    "$$p(\\theta) = \\frac{\\sin \\theta\\,d\\theta}{2} $$\n",
    "$$\\int_{0}^{\\pi} p(\\theta)\\,d\\theta = \\int_{0}^{\\pi} \\frac{\\sin \\theta\\,d\\theta}{2} = \\frac{\\cos0 - \\cos\\pi}{2} = 1$$\n",
    "\n",
    "$$p(\\phi) = \\frac{d\\phi}{2\\pi} $$\n",
    "$$\\int_{0}^{2\\pi} p(\\phi)\\,d\\phi = \\int_{0}^{2\\pi} \\frac{d\\phi}{2\\pi} = \\frac{2\\pi - 0}{2\\pi} = 1$$\n"
   ]
  },
  {
   "cell_type": "markdown",
   "metadata": {},
   "source": [
    "## Part B\n",
    "\n",
    "Let $z$ be a uniform random number between 0 and 1 (i.e., $q(z) = 1$ between 0 and 1 and 0 otherwise).\n",
    "\n",
    "#### Formulas for generating angles θ and ϕ\n",
    "$$\\int_{0}^{\\theta^{'}} p(\\theta)\\,d\\theta = \\int_{0}^{\\theta^{'}} \\frac{\\sin \\theta\\,d\\theta}{2} = \\frac{\\cos0 - \\cos(\\theta^{'}(z))}{2} = z$$\n",
    "Therefore,\n",
    "$$\\theta^{'}(z) = \\cos^{-1}(1 - 2z)$$\n",
    "\n",
    "$$\\int_{0}^{\\phi^{'}} p(\\phi)\\,d\\phi = \\int_{0}^{\\phi^{'}} \\frac{d\\phi}{2\\pi} = \\frac{\\phi^{'}(z) - 0}{2\\pi} = z$$\n",
    "Therefore,\n",
    "$$\\phi^{'}(z) = 2\\pi z$$"
   ]
  }
 ],
 "metadata": {
  "kernelspec": {
   "display_name": "Python 3 (ipykernel)",
   "language": "python",
   "name": "python3"
  },
  "language_info": {
   "codemirror_mode": {
    "name": "ipython",
    "version": 3
   },
   "file_extension": ".py",
   "mimetype": "text/x-python",
   "name": "python",
   "nbconvert_exporter": "python",
   "pygments_lexer": "ipython3",
   "version": "3.10.8"
  }
 },
 "nbformat": 4,
 "nbformat_minor": 1
}
